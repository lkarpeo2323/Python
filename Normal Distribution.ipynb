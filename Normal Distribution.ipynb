import numpy
import matplotlib.pyplot as plt

# normal distribution of 50 numbers 
# mean of 5 
# standard deviation of 1

x = numpy.random.normal(5.0, 1.0, 50)

print(x)


plt.hist(x, 100)
plt.show()


